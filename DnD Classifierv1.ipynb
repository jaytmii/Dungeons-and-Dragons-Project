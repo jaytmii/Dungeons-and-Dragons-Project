{
 "cells": [
  {
   "cell_type": "code",
   "execution_count": 24,
   "metadata": {},
   "outputs": [],
   "source": [
    "import pandas as pd"
   ]
  },
  {
   "cell_type": "code",
   "execution_count": 3,
   "metadata": {},
   "outputs": [
    {
     "name": "stdout",
     "output_type": "stream",
     "text": [
      "How much Health does your character have?75\n",
      "What is your characters AC?15\n",
      "What is your total To Hit modifer?5\n",
      "What is your characters damage die?12\n"
     ]
    }
   ],
   "source": [
    "def Player_1_HP():\n",
    "    Player_1_HP = int(input('How much Health does your character have?'))\n",
    "    return int(Player_1_HP)\n",
    "def Player_1_AC():\n",
    "    Player_1_AC = int(input('What is your character''s AC?'))\n",
    "    return int(Player_1_AC)\n",
    "def Player_1_To_Hit():\n",
    "    Player_1_To_Hit = int(input('What is your total To Hit modifer?'))\n",
    "    return int(Player_1_To_Hit)\n",
    "def Player_1_DMG():\n",
    "    Player_1_DMG = int(input('What is your character''s damage die?'))\n",
    "    return int(Player_1_DMG)\n",
    "\n",
    "HP = Player_1_HP()\n",
    "\n",
    "AC = Player_1_AC()\n",
    "\n",
    "To_Hit = Player_1_To_Hit()\n",
    "\n",
    "DMG = Player_1_DMG()\n",
    "\n",
    "Player_1 = HP, AC, To_Hit, DMG"
   ]
  },
  {
   "cell_type": "code",
   "execution_count": 10,
   "metadata": {
    "scrolled": true
   },
   "outputs": [
    {
     "name": "stdout",
     "output_type": "stream",
     "text": [
      "How much Health does your Monster have?10\n",
      "What is your monsters AC?5\n",
      "What is your monsters total To Hit modifer?5\n",
      "What is your monsters damage die?5\n"
     ]
    }
   ],
   "source": [
    "def Monster_1_HP():\n",
    "    Monster_1_HP = int(input('How much Health does your Monster have?'))\n",
    "    return int(Monster_1_HP)\n",
    "def Monster_1_AC():\n",
    "    Monster_1_AC = int(input('What is your monster''s AC?'))\n",
    "    return int(Monster_1_AC)\n",
    "def Monster_1_To_Hit():\n",
    "    Monster_1_To_Hit = int(input('What is your monster''s total To Hit modifer?'))\n",
    "    return int(Monster_1_To_Hit)\n",
    "def Monster_1_DMG():\n",
    "    Monster_1_DMG = int(input('What is your monster''s damage die?'))\n",
    "    return int(Monster_1_DMG)\n",
    "\n",
    "HP_Monster = Monster_1_HP()\n",
    "\n",
    "AC_Monster = Monster_1_AC()\n",
    "\n",
    "To_Hit_Monster = Monster_1_To_Hit()\n",
    "\n",
    "DMG_Monster = Monster_1_DMG()\n",
    "\n",
    "Monster_1 = HP_Monster, AC_Monster, To_Hit_Monster, DMG_Monster"
   ]
  },
  {
   "cell_type": "code",
   "execution_count": 19,
   "metadata": {
    "scrolled": false
   },
   "outputs": [
    {
     "name": "stdout",
     "output_type": "stream",
     "text": [
      "Mid Encounter. Your percentage hits will be: 0.55\n",
      "You will survive 1.6666666666666667 rounds\n"
     ]
    }
   ],
   "source": [
    "##Survivability and to Hit Loop for monster inputs\n",
    "\n",
    "\n",
    "if HP_Monster/(DMG/2) <= 5 and To_Hit_Monster +5>=AC:\n",
    "    print(\"Easy Encounter. Your percentage hits will be:\",(((20-(AC-To_Hit_Monster))*.05)+.05))\n",
    "    print(\"You will survive\", HP_Monster/(DMG/2), \"rounds\")\n",
    "elif HP_Monster/(DMG/2) <= 10 and To_Hit_Monster +10>=AC:\n",
    "    print(\"Mid Encounter. Your percentage hits will be:\",(((20-(AC-To_Hit_Monster))*.05)+.05))\n",
    "    print(\"You will survive\", HP_Monster/(DMG/2), \"rounds\")\n",
    "elif HP_Monster/(DMG/2) <= 15 and To_Hit_Monster +15>=AC:\n",
    "    print(\"Hard Encounter. Your percentage hits will be:\",(((20-(AC-To_Hit_Monster))*.05)+.05))\n",
    "    print(\"You will survive\", HP_Monster/(DMG/2), \"rounds\")\n",
    "elif HP_Monster/(DMG/2) <= 20 and To_Hit_Monster +20>=AC:\n",
    "    print(\"Heroic Encounter. Your percentage hits will be:\",(((20-(AC-To_Hit_Monster))*.05)+.05))\n",
    "    print(\"You will survive\", HP_Monster/(DMG/2), \"rounds\")\n",
    "else:\n",
    "    print('Please adjust stats')"
   ]
  },
  {
   "cell_type": "code",
   "execution_count": 18,
   "metadata": {},
   "outputs": [
    {
     "name": "stdout",
     "output_type": "stream",
     "text": [
      "Easy Encounter. Your percentage hits will be: 1.05\n",
      "You will survive 30.0 rounds\n"
     ]
    }
   ],
   "source": [
    "##Survivability and to Hit Loop for player inputs\n",
    "\n",
    "if HP/(DMG_Monster/2) >= 20 and To_Hit +5>=AC_Monster:\n",
    "    print(\"Easy Encounter. Your percentage hits will be:\",(((20-(AC_Monster-To_Hit))*.05)+.05))\n",
    "    print(\"You will survive\", HP/(DMG_Monster/2), \"rounds\")\n",
    "elif HP/(DMG_Monster/2) >= 15 and To_Hit +10>=AC_Monster:\n",
    "    print(\"Mid Encounter. Your percentage hits will be:\",(((20-(AC_Monster-To_Hit))*.05)+.05))\n",
    "    print(\"You will survive\", HP/(DMG_Monster/2), \"rounds\")\n",
    "elif HP/(DMG_Monster/2) >= 10 and To_Hit +15>=AC_Monster:\n",
    "    print(\"Hard Encounter. Your percentage hits will be:\",(((20-(AC_Monster-To_Hit))*.05)+.05))\n",
    "    print(\"You will survive\", HP/(DMG_Monster/2), \"rounds\")\n",
    "elif HP/(DMG_Monster/2) >= 1 and To_Hit +20>=AC_Monster:\n",
    "    print(\"Heroic Encounter. Your percentage hits will be:\",(((20-(AC_Monster-To_Hit))*.05)+.05))\n",
    "    print(\"You will survive\", HP/(DMG_Monster/2), \"rounds\")\n",
    "else:\n",
    "    print('Please adjust stats')"
   ]
  },
  {
   "cell_type": "code",
   "execution_count": 42,
   "metadata": {
    "scrolled": true
   },
   "outputs": [
    {
     "data": {
      "text/html": [
       "<div>\n",
       "<style scoped>\n",
       "    .dataframe tbody tr th:only-of-type {\n",
       "        vertical-align: middle;\n",
       "    }\n",
       "\n",
       "    .dataframe tbody tr th {\n",
       "        vertical-align: top;\n",
       "    }\n",
       "\n",
       "    .dataframe thead th {\n",
       "        text-align: right;\n",
       "    }\n",
       "</style>\n",
       "<table border=\"1\" class=\"dataframe\">\n",
       "  <thead>\n",
       "    <tr style=\"text-align: right;\">\n",
       "      <th></th>\n",
       "      <th>HP</th>\n",
       "      <th>AC</th>\n",
       "      <th>To_Hit</th>\n",
       "      <th>DMG</th>\n",
       "    </tr>\n",
       "  </thead>\n",
       "  <tbody>\n",
       "    <tr>\n",
       "      <th>0</th>\n",
       "      <td>5</td>\n",
       "      <td>2</td>\n",
       "      <td>5</td>\n",
       "      <td>2</td>\n",
       "    </tr>\n",
       "  </tbody>\n",
       "</table>\n",
       "</div>"
      ],
      "text/plain": [
       "   HP  AC  To_Hit  DMG\n",
       "0   5   2       5    2"
      ]
     },
     "execution_count": 42,
     "metadata": {},
     "output_type": "execute_result"
    }
   ],
   "source": [
    "#For recording all randomized monster/PC stats in the future\n",
    "Player_1 = []\n",
    "Player_1 = pd.DataFrame(Player_1, columns = \n",
    "                              [\"HP\", \"AC\", \"To_Hit\", \"DMG\"])\n",
    "Player_1 = pd.Series([HP,AC,To_Hit,DMG], index = Player_1.columns)\n",
    "Player_1 = pd.DataFrame(Player_1)\n",
    "Player_1= Player_1.T\n",
    "Player_1.head()"
   ]
  },
  {
   "cell_type": "code",
   "execution_count": 43,
   "metadata": {},
   "outputs": [
    {
     "data": {
      "text/html": [
       "<div>\n",
       "<style scoped>\n",
       "    .dataframe tbody tr th:only-of-type {\n",
       "        vertical-align: middle;\n",
       "    }\n",
       "\n",
       "    .dataframe tbody tr th {\n",
       "        vertical-align: top;\n",
       "    }\n",
       "\n",
       "    .dataframe thead th {\n",
       "        text-align: right;\n",
       "    }\n",
       "</style>\n",
       "<table border=\"1\" class=\"dataframe\">\n",
       "  <thead>\n",
       "    <tr style=\"text-align: right;\">\n",
       "      <th></th>\n",
       "      <th>HP</th>\n",
       "      <th>AC</th>\n",
       "      <th>To_Hit</th>\n",
       "      <th>DMG</th>\n",
       "    </tr>\n",
       "  </thead>\n",
       "  <tbody>\n",
       "    <tr>\n",
       "      <th>0</th>\n",
       "      <td>5</td>\n",
       "      <td>2</td>\n",
       "      <td>3</td>\n",
       "      <td>5</td>\n",
       "    </tr>\n",
       "  </tbody>\n",
       "</table>\n",
       "</div>"
      ],
      "text/plain": [
       "   HP  AC  To_Hit  DMG\n",
       "0   5   2       3    5"
      ]
     },
     "execution_count": 43,
     "metadata": {},
     "output_type": "execute_result"
    }
   ],
   "source": [
    "#For recording all randomized monster/PC stats in the future\n",
    "Monster_1 = []\n",
    "Monster_1 = pd.DataFrame(Monster_1, columns = \n",
    "                              [\"HP\", \"AC\", \"To_Hit\", \"DMG\"])\n",
    "Monster_1 = pd.Series([HP_Monster,AC_Monster,To_Hit_Monster,DMG_Monster], index = Monster_1.columns)\n",
    "Monster_1 = pd.DataFrame(Monster_1)\n",
    "Monster_1= Monster_1.T\n",
    "Monster_1.head()"
   ]
  }
 ],
 "metadata": {
  "kernelspec": {
   "display_name": "Python 3",
   "language": "python",
   "name": "python3"
  },
  "language_info": {
   "codemirror_mode": {
    "name": "ipython",
    "version": 3
   },
   "file_extension": ".py",
   "mimetype": "text/x-python",
   "name": "python",
   "nbconvert_exporter": "python",
   "pygments_lexer": "ipython3",
   "version": "3.7.2"
  }
 },
 "nbformat": 4,
 "nbformat_minor": 2
}
