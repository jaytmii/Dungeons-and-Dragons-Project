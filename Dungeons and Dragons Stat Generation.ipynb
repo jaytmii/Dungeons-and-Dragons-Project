{
 "cells": [
  {
   "cell_type": "code",
   "execution_count": 1,
   "metadata": {},
   "outputs": [
    {
     "name": "stdout",
     "output_type": "stream",
     "text": [
      "How many Dice would you like to roll?3\n",
      "How many sides will your dice have?6\n"
     ]
    }
   ],
   "source": [
    "import random\n",
    "import pandas as pd\n",
    "#Create the paramenters for dice Rolling\n",
    "\n",
    "def N_Dice():\n",
    "    Number_Dice = int(input('How many Dice would you like to roll?'))\n",
    "    return int(Number_Dice)\n",
    "x= N_Dice()\n",
    "\n",
    "\n",
    "def N_Dice_Sides():\n",
    "    Number_Dice_Sides = int(input('How many sides will your dice have?'))\n",
    "    return Number_Dice_Sides\n",
    "y= N_Dice_Sides()"
   ]
  },
  {
   "cell_type": "code",
   "execution_count": 2,
   "metadata": {},
   "outputs": [],
   "source": [
    "##Need to ad IF THEN functionality to avoid <8 on stats\n",
    "\n",
    "import random\n",
    "def STR():\n",
    "    Rolled_Dice_STR=(random.randint(x,(x*y)))\n",
    "    return Rolled_Dice_STR\n",
    "\n",
    "STR = STR()\n",
    "\n",
    "def CON():\n",
    "    Rolled_Dice_CON=(random.randint(x,(x*y)))\n",
    "    return Rolled_Dice_CON\n",
    "\n",
    "CON = CON()\n",
    "\n",
    "def WIS():\n",
    "    Rolled_Dice_WIS=(random.randint(x,(x*y)))\n",
    "    return Rolled_Dice_WIS\n",
    "\n",
    "WIS = WIS()\n",
    "\n",
    "\n",
    "def INT():\n",
    "    Rolled_Dice_INT=(random.randint(x,(x*y)))\n",
    "    return Rolled_Dice_INT\n",
    "\n",
    "INT = INT()\n",
    "\n",
    "def DEX():\n",
    "    Rolled_Dice_DEX=(random.randint(x,(x*y)))\n",
    "    return Rolled_Dice_DEX\n",
    "\n",
    "DEX = DEX()\n",
    "\n",
    "ABS = STR, CON, WIS, INT, DEX"
   ]
  },
  {
   "cell_type": "code",
   "execution_count": 3,
   "metadata": {},
   "outputs": [
    {
     "data": {
      "text/plain": [
       "(14, 3, 16, 15, 7)"
      ]
     },
     "execution_count": 3,
     "metadata": {},
     "output_type": "execute_result"
    }
   ],
   "source": [
    "ABS"
   ]
  },
  {
   "cell_type": "code",
   "execution_count": 4,
   "metadata": {},
   "outputs": [
    {
     "data": {
      "text/html": [
       "<div>\n",
       "<style scoped>\n",
       "    .dataframe tbody tr th:only-of-type {\n",
       "        vertical-align: middle;\n",
       "    }\n",
       "\n",
       "    .dataframe tbody tr th {\n",
       "        vertical-align: top;\n",
       "    }\n",
       "\n",
       "    .dataframe thead th {\n",
       "        text-align: right;\n",
       "    }\n",
       "</style>\n",
       "<table border=\"1\" class=\"dataframe\">\n",
       "  <thead>\n",
       "    <tr style=\"text-align: right;\">\n",
       "      <th></th>\n",
       "      <th>Strength</th>\n",
       "      <th>Constitution</th>\n",
       "      <th>Wisdom</th>\n",
       "      <th>Intelligence</th>\n",
       "      <th>Dexterity</th>\n",
       "    </tr>\n",
       "  </thead>\n",
       "  <tbody>\n",
       "    <tr>\n",
       "      <th>0</th>\n",
       "      <td>14</td>\n",
       "      <td>3</td>\n",
       "      <td>7</td>\n",
       "      <td>15</td>\n",
       "      <td>16</td>\n",
       "    </tr>\n",
       "  </tbody>\n",
       "</table>\n",
       "</div>"
      ],
      "text/plain": [
       "   Strength  Constitution  Wisdom  Intelligence  Dexterity\n",
       "0        14             3       7            15         16"
      ]
     },
     "execution_count": 4,
     "metadata": {},
     "output_type": "execute_result"
    }
   ],
   "source": [
    "Ability_Scores = []\n",
    "Ability_Scores = pd.DataFrame(Ability_Scores, columns = \n",
    "                              [\"Strength\", \"Constitution\", \"Wisdom\", \"Intelligence\", \"Dexterity\"])\n",
    "ABS = pd.Series([STR,CON,DEX,INT,WIS], index = Ability_Scores.columns)\n",
    "Ability_Scores = pd.DataFrame(ABS)\n",
    "Ability_Scores= Ability_Scores.T\n",
    "Ability_Scores.head()"
   ]
  },
  {
   "cell_type": "code",
   "execution_count": null,
   "metadata": {},
   "outputs": [],
   "source": []
  }
 ],
 "metadata": {
  "kernelspec": {
   "display_name": "Python 3",
   "language": "python",
   "name": "python3"
  },
  "language_info": {
   "codemirror_mode": {
    "name": "ipython",
    "version": 3
   },
   "file_extension": ".py",
   "mimetype": "text/x-python",
   "name": "python",
   "nbconvert_exporter": "python",
   "pygments_lexer": "ipython3",
   "version": "3.7.2"
  }
 },
 "nbformat": 4,
 "nbformat_minor": 2
}
